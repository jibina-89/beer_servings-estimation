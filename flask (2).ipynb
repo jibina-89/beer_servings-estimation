{
 "cells": [
  {
   "cell_type": "code",
   "execution_count": 33,
   "id": "dfffe7c8-0c12-4c4b-8a1c-91a4be2b609f",
   "metadata": {},
   "outputs": [
    {
     "name": "stdout",
     "output_type": "stream",
     "text": [
      "LR_model R² Score: 0.84\n",
      "Random Forest R² Score: 0.82\n"
     ]
    }
   ],
   "source": [
    "import pandas as pd\n",
    "from sklearn.model_selection import train_test_split\n",
    "from sklearn.linear_model import LinearRegression\n",
    "from sklearn.ensemble import RandomForestRegressor\n",
    "from sklearn.metrics import r2_score\n",
    "from sklearn.preprocessing import OneHotEncoder\n",
    "from sklearn.compose import ColumnTransformer\n",
    "from sklearn.pipeline import Pipeline\n",
    "\n",
    "# Load dataset\n",
    "df = pd.read_csv(\"beer-servings.csv\")\n",
    "\n",
    "# Drop missing values\n",
    "df = df.dropna()\n",
    "\n",
    "# Features and target\n",
    "X = df[['country', 'beer_servings', 'spirit_servings', 'wine_servings', 'continent']]\n",
    "y = df['total_litres_of_pure_alcohol']\n",
    "\n",
    "# OneHotEncoder for categorical data\n",
    "preprocessor = ColumnTransformer(transformers=[\n",
    "    ('cat', OneHotEncoder(handle_unknown='ignore'), ['country', 'continent'])\n",
    "], remainder='passthrough')\n",
    "\n",
    "# Define models\n",
    "models = {\n",
    "    'LR_model': LinearRegression(),\n",
    "    'Random Forest': RandomForestRegressor(random_state=42)\n",
    "}\n",
    "\n",
    "# Train and evaluate each model\n",
    "for name, model in models.items():\n",
    "    pipeline = Pipeline(steps=[\n",
    "        ('preprocessor', preprocessor),\n",
    "        ('regressor', model)\n",
    "    ])\n",
    "    \n",
    "    X_train, X_test, y_train, y_test = train_test_split(X, y, test_size=0.2, random_state=42)\n",
    "    pipeline.fit(X_train, y_train)\n",
    "    y_pred = pipeline.predict(X_test)\n",
    "    r2 = r2_score(y_test, y_pred)\n",
    "    print(f\"{name} R² Score: {r2:.2f}\")"
   ]
  },
  {
   "cell_type": "code",
   "execution_count": 34,
   "id": "236f7385-d578-4bfa-a4ce-02a27765f96f",
   "metadata": {},
   "outputs": [
    {
     "name": "stdout",
     "output_type": "stream",
     "text": [
      "LR_model R² Score: 0.84\n",
      "Lasso Regression R² Score: 0.83\n",
      "Random Forest R² Score: 0.82\n"
     ]
    }
   ],
   "source": [
    "import pandas as pd\n",
    "from sklearn.model_selection import train_test_split\n",
    "from sklearn.linear_model import LinearRegression, Lasso\n",
    "from sklearn.ensemble import RandomForestRegressor\n",
    "from sklearn.metrics import r2_score\n",
    "from sklearn.preprocessing import OneHotEncoder\n",
    "from sklearn.compose import ColumnTransformer\n",
    "from sklearn.pipeline import Pipeline\n",
    "\n",
    "# Load and clean data\n",
    "df = pd.read_csv(\"beer-servings.csv\")\n",
    "df = df.dropna()\n",
    "\n",
    "# Features and target\n",
    "X = df[['country', 'beer_servings', 'spirit_servings', 'wine_servings', 'continent']]\n",
    "y = df['total_litres_of_pure_alcohol']\n",
    "\n",
    "# One-hot encode categorical features\n",
    "preprocessor = ColumnTransformer(transformers=[\n",
    "    ('cat', OneHotEncoder(handle_unknown='ignore'), ['country', 'continent'])\n",
    "], remainder='passthrough')\n",
    "\n",
    "# Define models (including Lasso)\n",
    "models = {\n",
    "    'LR_model': LinearRegression(),\n",
    "    'Lasso Regression': Lasso(alpha=0.1),  # you can tune alpha\n",
    "    'Random Forest': RandomForestRegressor(random_state=42)\n",
    "}\n",
    "\n",
    "# Train and evaluate\n",
    "for name, model in models.items():\n",
    "    pipe = Pipeline(steps=[\n",
    "        ('preprocessor', preprocessor),\n",
    "        ('regressor', model)\n",
    "    ])\n",
    "    X_train, X_test, y_train, y_test = train_test_split(X, y, test_size=0.2, random_state=42)\n",
    "    pipe.fit(X_train, y_train)\n",
    "    y_pred = pipe.predict(X_test)\n",
    "    print(f\"{name} R² Score: {r2_score(y_test, y_pred):.2f}\")"
   ]
  },
  {
   "cell_type": "code",
   "execution_count": 40,
   "id": "f7aeaf8d-ab6e-46dd-ad9d-9306d80fc31a",
   "metadata": {},
   "outputs": [
    {
     "name": "stdout",
     "output_type": "stream",
     "text": [
      "Lasso Regression R² Score: 0.8313060911662882\n"
     ]
    }
   ],
   "source": [
    "import pandas as pd\n",
    "from sklearn.model_selection import train_test_split\n",
    "from sklearn.linear_model import LinearRegression, Lasso\n",
    "from sklearn.ensemble import RandomForestRegressor\n",
    "from sklearn.metrics import r2_score\n",
    "from sklearn.preprocessing import OneHotEncoder\n",
    "from sklearn.compose import ColumnTransformer\n",
    "from sklearn.pipeline import Pipeline\n",
    "import pickle\n",
    "\n",
    "# Load and clean data\n",
    "df = pd.read_csv(\"beer-servings.csv\")\n",
    "df = df.dropna()\n",
    "\n",
    "X = df[['country', 'beer_servings', 'spirit_servings', 'wine_servings', 'continent']]\n",
    "y = df['total_litres_of_pure_alcohol']\n",
    "\n",
    "# One-hot encoder\n",
    "preprocessor = ColumnTransformer(transformers=[\n",
    "    ('cat', OneHotEncoder(handle_unknown='ignore'), ['country', 'continent'])\n",
    "], remainder='passthrough')\n",
    "\n",
    "# Build Lasso pipeline\n",
    "lasso_pipeline = Pipeline(steps=[\n",
    "    ('preprocessor', preprocessor),\n",
    "    ('regressor', Lasso(alpha=0.1))\n",
    "])\n",
    "\n",
    "# Train-test split\n",
    "X_train, X_test, y_train, y_test = train_test_split(X, y, test_size=0.2, random_state=42)\n",
    "lasso_pipeline.fit(X_train, y_train)\n",
    "\n",
    "# Predict and score\n",
    "y_pred = lasso_pipeline.predict(X_test)\n",
    "print(\"Lasso Regression R² Score:\", r2_score(y_test, y_pred))\n",
    "\n",
    "# Save the trained model\n",
    "with open('lasso_model.pkl', 'wb') as f:\n",
    "    pickle.dump(lasso_pipeline, f)"
   ]
  },
  {
   "cell_type": "code",
   "execution_count": 41,
   "id": "ce95474d-c0db-4c31-8b10-c3b29b436099",
   "metadata": {},
   "outputs": [],
   "source": [
    "# If you trained a linear regression model separately like this:\n",
    "LR_model = Pipeline([...])  # define and fit the model\n",
    "\n",
    "# Then you can save it\n",
    "with open(\"LR_model.pkl\", \"wb\") as f:\n",
    "    pickle.dump(LR_model, f)\n",
    "\n",
    "    "
   ]
  },
  {
   "cell_type": "code",
   "execution_count": null,
   "id": "21d6e669-481c-4718-b6e8-754943d55749",
   "metadata": {},
   "outputs": [],
   "source": []
  }
 ],
 "metadata": {
  "kernelspec": {
   "display_name": "anaconda-2024.02-py310",
   "language": "python",
   "name": "conda-env-anaconda-2024.02-py310-py"
  },
  "language_info": {
   "codemirror_mode": {
    "name": "ipython",
    "version": 3
   },
   "file_extension": ".py",
   "mimetype": "text/x-python",
   "name": "python",
   "nbconvert_exporter": "python",
   "pygments_lexer": "ipython3",
   "version": "3.10.14"
  }
 },
 "nbformat": 4,
 "nbformat_minor": 5
}
